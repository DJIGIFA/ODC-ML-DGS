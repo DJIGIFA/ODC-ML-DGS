{
 "cells": [
  {
   "cell_type": "code",
   "execution_count": 370,
   "id": "594023af",
   "metadata": {},
   "outputs": [],
   "source": [
    "%matplotlib inline\n",
    "import numpy as np\n",
    "import pandas as pd\n",
    "import matplotlib.pyplot as plt\n",
    "from pandas.errors import ParserError\n",
    "\n",
    "from sklearn.linear_model import SGDRegressor\n",
    "from sklearn.linear_model import SGDClassifier\n",
    "from sklearn.model_selection import train_test_split\n",
    "\n",
    "\n",
    "from sklearn import metrics\n",
    "\n",
    "csv_file_name = \"scorm_tracking_copy.csv\""
   ]
  },
  {
   "cell_type": "code",
   "execution_count": 389,
   "id": "7a040515",
   "metadata": {
    "scrolled": false
   },
   "outputs": [],
   "source": [
    "dataset = pd.read_csv(csv_file_name,delimiter=\";\")\n",
    "dataset = dataset.groupby(['object_id','actor']).agg({'temps':'sum','score':'max','progression':'mean','session_uuid':'count'})\n",
    "dataset = dataset.reset_index() \n",
    "\n",
    "dataset\n",
    "\n",
    "dataset['score'] = dataset['score'].map(lambda score : 1 if score >= 50 else 0)\n",
    "\n",
    "dataset\n",
    "\n",
    "dataset.drop(['object_id', 'actor'], axis=1,inplace=True)\n",
    "dataset\n",
    "\n",
    "\n",
    "\n",
    "model = SGDClassifier( verbose=False)\n",
    "\n",
    "Y = dataset['score']\n",
    "X = dataset.drop('score',axis=1)\n",
    "\n",
    "X_train, X_test, y_train, y_test = train_test_split(X, Y, random_state=2, train_size = .80)\n"
   ]
  },
  {
   "cell_type": "code",
   "execution_count": 394,
   "id": "cd119c4f",
   "metadata": {},
   "outputs": [
    {
     "data": {
      "text/plain": [
       "SGDClassifier(verbose=False)"
      ]
     },
     "execution_count": 394,
     "metadata": {},
     "output_type": "execute_result"
    }
   ],
   "source": [
    "model.fit(X_train,y_train)"
   ]
  },
  {
   "cell_type": "code",
   "execution_count": 395,
   "id": "ce26f018",
   "metadata": {},
   "outputs": [
    {
     "data": {
      "text/plain": [
       "0.6934803762568926"
      ]
     },
     "execution_count": 395,
     "metadata": {},
     "output_type": "execute_result"
    }
   ],
   "source": [
    "\n",
    "pred = model.predict(X_test)\n",
    "\n",
    "model.score(X_test,y_test)\n",
    "\n",
    "# y_predict = model.predict(X_test)\n",
    "\n",
    "# metrics.accuracy_score(y_test,y_predict)\n",
    "\n",
    "# dir(model)"
   ]
  },
  {
   "cell_type": "code",
   "execution_count": null,
   "id": "8c5c8066",
   "metadata": {},
   "outputs": [],
   "source": []
  },
  {
   "cell_type": "code",
   "execution_count": null,
   "id": "03987cf4",
   "metadata": {},
   "outputs": [],
   "source": []
  },
  {
   "cell_type": "code",
   "execution_count": null,
   "id": "e4863421",
   "metadata": {},
   "outputs": [],
   "source": []
  },
  {
   "cell_type": "code",
   "execution_count": 245,
   "id": "f7d6b8c5",
   "metadata": {},
   "outputs": [
    {
     "data": {
      "text/plain": [
       "{'hinge': (sklearn.linear_model._sgd_fast.Hinge, 1.0),\n",
       " 'squared_hinge': (sklearn.linear_model._sgd_fast.SquaredHinge, 1.0),\n",
       " 'perceptron': (sklearn.linear_model._sgd_fast.Hinge, 0.0),\n",
       " 'log': (sklearn.linear_model._sgd_fast.Log,),\n",
       " 'modified_huber': (sklearn.linear_model._sgd_fast.ModifiedHuber,),\n",
       " 'squared_error': (sklearn.linear_model._sgd_fast.SquaredLoss,),\n",
       " 'squared_loss': (sklearn.linear_model._sgd_fast.SquaredLoss,),\n",
       " 'huber': (sklearn.linear_model._sgd_fast.Huber, 0.1),\n",
       " 'epsilon_insensitive': (sklearn.linear_model._sgd_fast.EpsilonInsensitive,\n",
       "  0.1),\n",
       " 'squared_epsilon_insensitive': (sklearn.linear_model._sgd_fast.SquaredEpsilonInsensitive,\n",
       "  0.1)}"
      ]
     },
     "execution_count": 245,
     "metadata": {},
     "output_type": "execute_result"
    }
   ],
   "source": [
    "model.loss_functions"
   ]
  },
  {
   "cell_type": "code",
   "execution_count": 210,
   "id": "3a47e3c0",
   "metadata": {},
   "outputs": [
    {
     "data": {
      "text/html": [
       "<div>\n",
       "<style scoped>\n",
       "    .dataframe tbody tr th:only-of-type {\n",
       "        vertical-align: middle;\n",
       "    }\n",
       "\n",
       "    .dataframe tbody tr th {\n",
       "        vertical-align: top;\n",
       "    }\n",
       "\n",
       "    .dataframe thead th {\n",
       "        text-align: right;\n",
       "    }\n",
       "</style>\n",
       "<table border=\"1\" class=\"dataframe\">\n",
       "  <thead>\n",
       "    <tr style=\"text-align: right;\">\n",
       "      <th></th>\n",
       "      <th>temps</th>\n",
       "      <th>score</th>\n",
       "      <th>progression</th>\n",
       "      <th>session_uuid</th>\n",
       "    </tr>\n",
       "  </thead>\n",
       "  <tbody>\n",
       "    <tr>\n",
       "      <th>0</th>\n",
       "      <td>0.0</td>\n",
       "      <td>0.0</td>\n",
       "      <td>0.330000</td>\n",
       "      <td>1</td>\n",
       "    </tr>\n",
       "    <tr>\n",
       "      <th>1</th>\n",
       "      <td>5.0</td>\n",
       "      <td>0.0</td>\n",
       "      <td>0.070000</td>\n",
       "      <td>1</td>\n",
       "    </tr>\n",
       "    <tr>\n",
       "      <th>2</th>\n",
       "      <td>126246.0</td>\n",
       "      <td>22.0</td>\n",
       "      <td>0.989011</td>\n",
       "      <td>91</td>\n",
       "    </tr>\n",
       "    <tr>\n",
       "      <th>3</th>\n",
       "      <td>396.0</td>\n",
       "      <td>100.0</td>\n",
       "      <td>1.000000</td>\n",
       "      <td>3</td>\n",
       "    </tr>\n",
       "    <tr>\n",
       "      <th>4</th>\n",
       "      <td>1395.0</td>\n",
       "      <td>100.0</td>\n",
       "      <td>0.856667</td>\n",
       "      <td>6</td>\n",
       "    </tr>\n",
       "    <tr>\n",
       "      <th>...</th>\n",
       "      <td>...</td>\n",
       "      <td>...</td>\n",
       "      <td>...</td>\n",
       "      <td>...</td>\n",
       "    </tr>\n",
       "    <tr>\n",
       "      <th>15408</th>\n",
       "      <td>2286.0</td>\n",
       "      <td>2.0</td>\n",
       "      <td>0.753333</td>\n",
       "      <td>3</td>\n",
       "    </tr>\n",
       "    <tr>\n",
       "      <th>15409</th>\n",
       "      <td>903.0</td>\n",
       "      <td>42.0</td>\n",
       "      <td>0.502500</td>\n",
       "      <td>4</td>\n",
       "    </tr>\n",
       "    <tr>\n",
       "      <th>15410</th>\n",
       "      <td>1265.0</td>\n",
       "      <td>29.0</td>\n",
       "      <td>0.606364</td>\n",
       "      <td>33</td>\n",
       "    </tr>\n",
       "    <tr>\n",
       "      <th>15411</th>\n",
       "      <td>871.0</td>\n",
       "      <td>85.0</td>\n",
       "      <td>1.000000</td>\n",
       "      <td>1</td>\n",
       "    </tr>\n",
       "    <tr>\n",
       "      <th>15412</th>\n",
       "      <td>2342.0</td>\n",
       "      <td>83.0</td>\n",
       "      <td>0.970000</td>\n",
       "      <td>2</td>\n",
       "    </tr>\n",
       "  </tbody>\n",
       "</table>\n",
       "<p>15413 rows × 4 columns</p>\n",
       "</div>"
      ],
      "text/plain": [
       "          temps  score  progression  session_uuid\n",
       "0           0.0    0.0     0.330000             1\n",
       "1           5.0    0.0     0.070000             1\n",
       "2      126246.0   22.0     0.989011            91\n",
       "3         396.0  100.0     1.000000             3\n",
       "4        1395.0  100.0     0.856667             6\n",
       "...         ...    ...          ...           ...\n",
       "15408    2286.0    2.0     0.753333             3\n",
       "15409     903.0   42.0     0.502500             4\n",
       "15410    1265.0   29.0     0.606364            33\n",
       "15411     871.0   85.0     1.000000             1\n",
       "15412    2342.0   83.0     0.970000             2\n",
       "\n",
       "[15413 rows x 4 columns]"
      ]
     },
     "execution_count": 210,
     "metadata": {},
     "output_type": "execute_result"
    }
   ],
   "source": [
    "dataset"
   ]
  },
  {
   "cell_type": "code",
   "execution_count": null,
   "id": "6567be59",
   "metadata": {},
   "outputs": [],
   "source": []
  },
  {
   "cell_type": "code",
   "execution_count": null,
   "id": "56b1fd3d",
   "metadata": {},
   "outputs": [],
   "source": []
  },
  {
   "cell_type": "code",
   "execution_count": null,
   "id": "715ca558",
   "metadata": {},
   "outputs": [],
   "source": []
  }
 ],
 "metadata": {
  "kernelspec": {
   "display_name": "Python 3 (ipykernel)",
   "language": "python",
   "name": "python3"
  },
  "language_info": {
   "codemirror_mode": {
    "name": "ipython",
    "version": 3
   },
   "file_extension": ".py",
   "mimetype": "text/x-python",
   "name": "python",
   "nbconvert_exporter": "python",
   "pygments_lexer": "ipython3",
   "version": "3.9.13"
  }
 },
 "nbformat": 4,
 "nbformat_minor": 5
}
